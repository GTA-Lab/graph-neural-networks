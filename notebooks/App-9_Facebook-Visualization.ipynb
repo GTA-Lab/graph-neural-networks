{
 "cells": [
  {
   "cell_type": "markdown",
   "metadata": {},
   "source": [
    "Download facebook large from [SNAP](https://snap.stanford.edu/data/facebook_large.zip)"
   ]
  },
  {
   "cell_type": "markdown",
   "metadata": {},
   "source": [
    "Preparing data for visualization using Gephi"
   ]
  },
  {
   "cell_type": "code",
   "execution_count": null,
   "metadata": {},
   "outputs": [],
   "source": [
    "import json  \n",
    "import pandas as pd  \n",
    "\n",
    "# Load edge data  \n",
    "edges = pd.read_csv('../../data/facebook_large/musae_facebook_edges.csv')  \n",
    "\n",
    "# Load features (adjust based on your JSON structure)  \n",
    "with open('../../data/facebook_large/musae_facebook_features.json', 'r') as f:  \n",
    "    features_data = json.load(f)  \n",
    "\n",
    "features = []  \n",
    "for node_id, feature_list in features_data.items():  \n",
    "    features.append({  \n",
    "        'id': int(node_id),   \n",
    "        'features': feature_list  \n",
    "    })  \n",
    "features_df = pd.DataFrame(features)  \n",
    "\n",
    "# Load target data (adjust if needed)  \n",
    "target_data = pd.read_csv('../../data/facebook_large/musae_facebook_target.csv')  \n",
    "\n",
    "# Combine features and target data  \n",
    "node_data = pd.merge(target_data, features_df, left_on='id', right_on='id', how='left')  \n",
    "node_data = node_data.fillna(-1) # Handle missing features (replace with -1)  \n",
    "\n",
    "# Prepare edge list for Gephi  \n",
    "edge_list = edges[['id_1', 'id_2']]  \n",
    "edge_list.columns = ['Source', 'Target']  # Rename for Gephi import  \n",
    "edge_list.to_csv('../../data/facebook_edges.csv', index=False)   \n",
    "\n",
    "# Prepare node data for Gephi  \n",
    "node_data[['id', 'page_name']].to_csv('../../data/facebook_nodes.csv', index=False)"
   ]
  },
  {
   "cell_type": "markdown",
   "metadata": {},
   "source": [
    "Visualization using PyVis"
   ]
  },
  {
   "cell_type": "code",
   "execution_count": null,
   "metadata": {},
   "outputs": [],
   "source": [
    "from pyvis.network import Network  \n",
    "\n",
    "# Create a PyVis network object  \n",
    "net = Network(notebook=True, width=\"1000px\", height=\"800px\")  \n",
    "\n",
    "# Add nodes (using node_data DataFrame)  \n",
    "for _, row in node_data.iterrows():  \n",
    "    net.add_node(row['id'], label=row['page_name'], title=f\"Type: {row['page_type']}\")   \n",
    "\n",
    "# Add edges  \n",
    "for _, row in edges.iterrows():  \n",
    "    net.add_edge(row['id_1'], row['id_2'])  \n",
    "\n",
    "# Show the interactive graph  \n",
    "net.show('facebook_graph.html')"
   ]
  }
 ],
 "metadata": {
  "kernelspec": {
   "display_name": "pth",
   "language": "python",
   "name": "python3"
  },
  "language_info": {
   "codemirror_mode": {
    "name": "ipython",
    "version": 3
   },
   "file_extension": ".py",
   "mimetype": "text/x-python",
   "name": "python",
   "nbconvert_exporter": "python",
   "pygments_lexer": "ipython3",
   "version": "3.10.13"
  }
 },
 "nbformat": 4,
 "nbformat_minor": 2
}
